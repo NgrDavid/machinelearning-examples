{
 "cells": [
  {
   "cell_type": "code",
   "execution_count": 1,
   "metadata": {},
   "outputs": [
    {
     "name": "stderr",
     "output_type": "stream",
     "text": [
      "/home/nicholas/machinelearning-examples/examples/HiddenMarkovModels/HmmModelWithPython/.venv/lib/python3.12/site-packages/tqdm/auto.py:21: TqdmWarning: IProgress not found. Please update jupyter and ipywidgets. See https://ipywidgets.readthedocs.io/en/stable/user_install.html\n",
      "  from .autonotebook import tqdm as notebook_tqdm\n"
     ]
    }
   ],
   "source": [
    "import pandas as pd\n",
    "import numpy as np\n",
    "import matplotlib.pyplot as plt\n",
    "import time\n",
    "from main import HiddenMarkovModel"
   ]
  },
  {
   "cell_type": "code",
   "execution_count": 2,
   "metadata": {},
   "outputs": [
    {
     "data": {
      "text/html": [
       "<div>\n",
       "<style scoped>\n",
       "    .dataframe tbody tr th:only-of-type {\n",
       "        vertical-align: middle;\n",
       "    }\n",
       "\n",
       "    .dataframe tbody tr th {\n",
       "        vertical-align: top;\n",
       "    }\n",
       "\n",
       "    .dataframe thead th {\n",
       "        text-align: right;\n",
       "    }\n",
       "</style>\n",
       "<table border=\"1\" class=\"dataframe\">\n",
       "  <thead>\n",
       "    <tr style=\"text-align: right;\">\n",
       "      <th></th>\n",
       "      <th>Velocity</th>\n",
       "      <th>Acceleration</th>\n",
       "      <th>PositionX</th>\n",
       "      <th>PositionY</th>\n",
       "    </tr>\n",
       "  </thead>\n",
       "  <tbody>\n",
       "    <tr>\n",
       "      <th>0</th>\n",
       "      <td>0.000000</td>\n",
       "      <td>0.000000</td>\n",
       "      <td>326.289520</td>\n",
       "      <td>145.868546</td>\n",
       "    </tr>\n",
       "    <tr>\n",
       "      <th>1</th>\n",
       "      <td>0.006695</td>\n",
       "      <td>0.185968</td>\n",
       "      <td>326.289582</td>\n",
       "      <td>145.868656</td>\n",
       "    </tr>\n",
       "    <tr>\n",
       "      <th>2</th>\n",
       "      <td>0.036535</td>\n",
       "      <td>0.694011</td>\n",
       "      <td>326.290013</td>\n",
       "      <td>145.869426</td>\n",
       "    </tr>\n",
       "    <tr>\n",
       "      <th>3</th>\n",
       "      <td>0.116059</td>\n",
       "      <td>1.680101</td>\n",
       "      <td>326.291599</td>\n",
       "      <td>145.872195</td>\n",
       "    </tr>\n",
       "    <tr>\n",
       "      <th>4</th>\n",
       "      <td>0.260809</td>\n",
       "      <td>3.045892</td>\n",
       "      <td>326.295488</td>\n",
       "      <td>145.878583</td>\n",
       "    </tr>\n",
       "    <tr>\n",
       "      <th>...</th>\n",
       "      <td>...</td>\n",
       "      <td>...</td>\n",
       "      <td>...</td>\n",
       "      <td>...</td>\n",
       "    </tr>\n",
       "    <tr>\n",
       "      <th>44808</th>\n",
       "      <td>4.112804</td>\n",
       "      <td>35.831591</td>\n",
       "      <td>117.271109</td>\n",
       "      <td>293.068905</td>\n",
       "    </tr>\n",
       "    <tr>\n",
       "      <th>44809</th>\n",
       "      <td>3.555299</td>\n",
       "      <td>35.133771</td>\n",
       "      <td>117.314541</td>\n",
       "      <td>293.087853</td>\n",
       "    </tr>\n",
       "    <tr>\n",
       "      <th>44810</th>\n",
       "      <td>3.153675</td>\n",
       "      <td>33.923732</td>\n",
       "      <td>117.354245</td>\n",
       "      <td>293.092396</td>\n",
       "    </tr>\n",
       "    <tr>\n",
       "      <th>44811</th>\n",
       "      <td>2.882485</td>\n",
       "      <td>32.239848</td>\n",
       "      <td>117.387893</td>\n",
       "      <td>293.086779</td>\n",
       "    </tr>\n",
       "    <tr>\n",
       "      <th>44812</th>\n",
       "      <td>2.694166</td>\n",
       "      <td>30.082261</td>\n",
       "      <td>117.414279</td>\n",
       "      <td>293.074722</td>\n",
       "    </tr>\n",
       "  </tbody>\n",
       "</table>\n",
       "<p>44813 rows × 4 columns</p>\n",
       "</div>"
      ],
      "text/plain": [
       "       Velocity  Acceleration   PositionX   PositionY\n",
       "0      0.000000      0.000000  326.289520  145.868546\n",
       "1      0.006695      0.185968  326.289582  145.868656\n",
       "2      0.036535      0.694011  326.290013  145.869426\n",
       "3      0.116059      1.680101  326.291599  145.872195\n",
       "4      0.260809      3.045892  326.295488  145.878583\n",
       "...         ...           ...         ...         ...\n",
       "44808  4.112804     35.831591  117.271109  293.068905\n",
       "44809  3.555299     35.133771  117.314541  293.087853\n",
       "44810  3.153675     33.923732  117.354245  293.092396\n",
       "44811  2.882485     32.239848  117.387893  293.086779\n",
       "44812  2.694166     30.082261  117.414279  293.074722\n",
       "\n",
       "[44813 rows x 4 columns]"
      ]
     },
     "execution_count": 2,
     "metadata": {},
     "output_type": "execute_result"
    }
   ],
   "source": [
    "data_path = \"../data/TrackingData.csv\"\n",
    "df = pd.read_csv(data_path)\n",
    "df"
   ]
  },
  {
   "cell_type": "markdown",
   "metadata": {},
   "source": [
    "# Initialize HMM"
   ]
  },
  {
   "cell_type": "code",
   "execution_count": 3,
   "metadata": {},
   "outputs": [],
   "source": [
    "# number of hidden discrete states that the model will use. We are choosing 3 for demo purposes.\n",
    "num_states = 3\n",
    "# dimensionality of the data. Since we are using velocity and acceleration, dimensionality is 2.\n",
    "dimensions = 2\n",
    "# default type of observations model. See https://github.com/lindermanlab/ssm/blob/6c856ad3967941d176eb348bcd490cfaaa08ba60/ssm/hmm.py#L81 for more.\n",
    "observations_model_type = \"gaussian\"\n",
    "# default type of transitions model. See https://github.com/lindermanlab/ssm/blob/6c856ad3967941d176eb348bcd490cfaaa08ba60/ssm/hmm.py#L51 for more.\n",
    "transitions_model_type = \"stationary\"\n",
    "\n",
    "hmm = HiddenMarkovModel(num_states=num_states, dimensions=dimensions,\n",
    "                        observations_model_type=observations_model_type, transitions_model_type=transitions_model_type)"
   ]
  },
  {
   "cell_type": "markdown",
   "metadata": {},
   "source": [
    "# Fit HMM using velocity and acceleration"
   ]
  },
  {
   "cell_type": "code",
   "execution_count": 4,
   "metadata": {},
   "outputs": [
    {
     "name": "stderr",
     "output_type": "stream",
     "text": [
      "LP: -365237.1: 100%|██████████| 100/100 [00:12<00:00,  7.78it/s]\n"
     ]
    }
   ],
   "source": [
    "# variables to estimate.\n",
    "vars_to_estimate = {\n",
    "    \"initial_state_distribution\": False,\n",
    "    \"transitions_params\": True,\n",
    "    \"observations_params\": True\n",
    "}\n",
    "# batch size.\n",
    "batch_size = len(df)\n",
    "# max number of training iterations.\n",
    "max_iter = 100\n",
    "\n",
    "for observation in zip(df[\"Velocity\"].to_list(), df[\"Acceleration\"].to_list()):\n",
    "    hmm.fit_async(observation=observation, vars_to_estimate=vars_to_estimate,\n",
    "                  batch_size=batch_size, max_iter=max_iter)\n",
    "\n",
    "while True:\n",
    "    if hmm.get_fit_finished():\n",
    "        hmm.reset_fit_loop()\n",
    "        break\n",
    "    time.sleep(1)\n",
    "\n",
    "hmm.save_model(\"../data/hmm_model.pkl\")"
   ]
  },
  {
   "cell_type": "markdown",
   "metadata": {},
   "source": [
    "# Plotting examples"
   ]
  },
  {
   "cell_type": "code",
   "execution_count": 5,
   "metadata": {},
   "outputs": [],
   "source": [
    "hmm = HiddenMarkovModel.load_model(\"../data/hmm_model.pkl\")"
   ]
  },
  {
   "cell_type": "code",
   "execution_count": 6,
   "metadata": {},
   "outputs": [
    {
     "data": {
      "text/plain": [
       "Text(0.5, 1.0, 'Inferred most probable states')"
      ]
     },
     "execution_count": 6,
     "metadata": {},
     "output_type": "execute_result"
    },
    {
     "data": {
      "image/png": "[encoded data removed]",
      "text/plain": [
       "<Figure size 640x480 with 1 Axes>"
      ]
     },
     "metadata": {},
     "output_type": "display_data"
    }
   ],
   "source": [
    "plt.plot(hmm.inferred_most_probable_states)\n",
    "plt.title(\"Inferred most probable states\")"
   ]
  },
  {
   "cell_type": "code",
   "execution_count": 7,
   "metadata": {},
   "outputs": [
    {
     "data": {
      "text/plain": [
       "Text(0.5, 1.0, 'State transition matrix')"
      ]
     },
     "execution_count": 7,
     "metadata": {},
     "output_type": "execute_result"
    },
    {
     "data": {
      "image/png": "[encoded data removed]",
      "text/plain": [
       "<Figure size 640x480 with 2 Axes>"
      ]
     },
     "metadata": {},
     "output_type": "display_data"
    }
   ],
   "source": [
    "plt.imshow(hmm.transitions.transition_matrix, vmin=0, vmax=0.1, origin=\"lower\")\n",
    "plt.colorbar()\n",
    "plt.title(\"State transition matrix\")"
   ]
  },
  {
   "cell_type": "code",
   "execution_count": null,
   "metadata": {},
   "outputs": [],
   "source": []
  }
 ],
 "metadata": {
  "kernelspec": {
   "display_name": ".venv",
   "language": "python",
   "name": "python3"
  },
  "language_info": {
   "codemirror_mode": {
    "name": "ipython",
    "version": 3
   },
   "file_extension": ".py",
   "mimetype": "text/x-python",
   "name": "python",
   "nbconvert_exporter": "python",
   "pygments_lexer": "ipython3",
   "version": "3.12.3"
  }
 },
 "nbformat": 4,
 "nbformat_minor": 2
}
